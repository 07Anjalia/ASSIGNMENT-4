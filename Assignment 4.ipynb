{
 "cells": [
  {
   "cell_type": "markdown",
   "id": "e473ae08",
   "metadata": {},
   "source": [
    "1. Print anagrams together in python using a list and dictionary.\n",
    "Input : arr = ['cat', 'dog', 'tac', 'god', 'act']\n",
    "Output : 'cat tac act dog god'\n"
   ]
  },
  {
   "cell_type": "code",
   "execution_count": 36,
   "id": "678c8056",
   "metadata": {},
   "outputs": [
    {
     "data": {
      "text/plain": [
       "'cat tac act dog god '"
      ]
     },
     "execution_count": 36,
     "metadata": {},
     "output_type": "execute_result"
    }
   ],
   "source": [
    "x = ['cat', 'dog', 'tac', 'god', 'act']\n",
    "dict = {}\n",
    "def my_anagrams(arr):\n",
    "    for val in x:\n",
    "        key = ''.join(sorted(val))\n",
    "        if key in dict.keys():\n",
    "            dict[key].append(val)\n",
    "        else:\n",
    "            dict[key] = []\n",
    "            dict[key].append(val)\n",
    "    result = \"\"\n",
    "    for key,value in dict.items():\n",
    "        result = result + ' '.join(value) +' '\n",
    "    return result\n",
    "my_dict(arr)\n"
   ]
  },
  {
   "cell_type": "markdown",
   "id": "b422b214",
   "metadata": {},
   "source": [
    "2. Python counter to find the size of the largest subset of anagram words. \n",
    "Input ::> \"qwe ewq rty ytr ytr ytr\" \n",
    "Output ::> 4 \n",
    "\n",
    "Input :: > \"cars bikes arcs steer\" \n",
    "Output :: > 2 \n",
    "\n"
   ]
  },
  {
   "cell_type": "code",
   "execution_count": 5,
   "id": "16a99285",
   "metadata": {},
   "outputs": [
    {
     "name": "stdout",
     "output_type": "stream",
     "text": [
      "4\n"
     ]
    }
   ],
   "source": [
    "from collections import Counter\n",
    "name = \"qwe ewq rty ytr ytr ytr\"\n",
    "def check(name):\n",
    "    ls = name.split()\n",
    "    for i in range(0,len(ls)):\n",
    "        ls[i]=\"\".join(sorted(ls[i]))\n",
    "    d = Counter(ls)\n",
    "    print(max(d.values()))   \n",
    "check(name)    \n",
    "        \n"
   ]
  },
  {
   "cell_type": "code",
   "execution_count": 6,
   "id": "9b0de0f4",
   "metadata": {},
   "outputs": [
    {
     "name": "stdout",
     "output_type": "stream",
     "text": [
      "2\n"
     ]
    }
   ],
   "source": [
    "from collections import Counter\n",
    "name = \"cars bikes arcs steer\" \n",
    "def check(name):\n",
    "    ls = name.split()\n",
    "    for i in range(0,len(ls)):\n",
    "        ls[i]=\"\".join(sorted(ls[i]))\n",
    "    d = Counter(ls)\n",
    "    print(max(d.values()))   \n",
    "check(name)  "
   ]
  },
  {
   "cell_type": "markdown",
   "id": "951b396a",
   "metadata": {},
   "source": [
    "3. Python dictionary, set and counter to check if frequencies can become the same. \n",
    "Input : str = \"xyyz\" \n",
    "Output : Yes \n",
    "We can remove character 'y' from above string to make the frequency of each character same.\n",
    "Input : str = \"xxxxyyzz\" \n",
    "Output : No \n",
    "It is not possible to make the frequency of each character the same just by removing at most one character from the above string. "
   ]
  },
  {
   "cell_type": "code",
   "execution_count": 7,
   "id": "dd6004ed",
   "metadata": {},
   "outputs": [
    {
     "name": "stdout",
     "output_type": "stream",
     "text": [
      "yes\n",
      "xzy\n"
     ]
    }
   ],
   "source": [
    "from collections import Counter\n",
    "str1 = \"xyyz\"\n",
    "data = (Counter(str1).values())\n",
    "for i in data:\n",
    "    if i>1 :\n",
    "        print('yes')\n",
    "    else : pass\n",
    "z = set(str1)\n",
    "print(''.join(z))"
   ]
  },
  {
   "cell_type": "code",
   "execution_count": 10,
   "id": "23201349",
   "metadata": {},
   "outputs": [
    {
     "name": "stdout",
     "output_type": "stream",
     "text": [
      "xzy\n"
     ]
    }
   ],
   "source": [
    "Inp = \"xxxxyyzz\"\n",
    "q = set(Inp)\n",
    "print(\"\".join(q))\n",
    "    "
   ]
  },
  {
   "cell_type": "markdown",
   "id": "f1028c9b",
   "metadata": {},
   "source": [
    "4 . Python program for number of elements with odd factors in a given range \n",
    " \n",
    " Input : n = 5, m = 100 \n",
    "\n",
    "Output : 8 \n",
    " The numbers with odd factors are 9, 16, 25, 36, 49, 64, 81 and 100 \n",
    " \n",
    " Input : n = 8, m = 65 \n",
    " Output : 6\n"
   ]
  },
  {
   "cell_type": "markdown",
   "id": "0cc6f9d0",
   "metadata": {},
   "source": [
    "5. python program to find the minimum sum of factors of a number. \n",
    "Input : 12 \n",
    "Output : 7 \n",
    "Explanation: \n",
    "Following are different ways to factorize 12 and sum of factors in different ways. 12 = 12 * 1 = 12 + 1 = 13 \n",
    "12 = 2 * 6 = 2 + 6 = 8 \n",
    "12 = 3 * 4 = 3 + 4 = 7 \n",
    "12 = 2 * 2 * 3 = 2 + 2 + 3 = 7 \n",
    "Therefore minimum sum is 7"
   ]
  },
  {
   "cell_type": "code",
   "execution_count": null,
   "id": "d09f1ca7",
   "metadata": {},
   "outputs": [],
   "source": []
  }
 ],
 "metadata": {
  "kernelspec": {
   "display_name": "Python 3 (ipykernel)",
   "language": "python",
   "name": "python3"
  },
  "language_info": {
   "codemirror_mode": {
    "name": "ipython",
    "version": 3
   },
   "file_extension": ".py",
   "mimetype": "text/x-python",
   "name": "python",
   "nbconvert_exporter": "python",
   "pygments_lexer": "ipython3",
   "version": "3.9.7"
  }
 },
 "nbformat": 4,
 "nbformat_minor": 5
}
